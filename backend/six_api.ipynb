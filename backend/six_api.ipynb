{
 "cells": [
  {
   "cell_type": "code",
   "execution_count": 26,
   "metadata": {},
   "outputs": [],
   "source": [
    "\"\"\"\n",
    "An example interface designed to be imported in your projects as a library.\n",
    "\"\"\"\n",
    "import urllib.request\n",
    "import ssl\n",
    "import json\n",
    "from typing import List, Dict, Any\n",
    "\n",
    "class APIError(Exception):\n",
    "    def __init__(self, message: str, correlation_id: str = None):\n",
    "        self.message = message\n",
    "        self.correlation_id = correlation_id\n",
    "        super().__init__(message)\n",
    "\n",
    "\n",
    "class FinancialDataAPI:\n",
    "    def __init__(self, certificate_path: str):\n",
    "        self.url = 'https://web.api.six-group.com/api/findata'\n",
    "        self.headers = {\n",
    "            \"accept\": \"application/json\"\n",
    "        }\n",
    "        self.context = ssl.SSLContext()\n",
    "        self.context.load_cert_chain(f'{certificate_path}/signed-certificate.pem', f'{certificate_path}/private-key.pem')\n",
    "\n",
    "    def _http_request(self, end_point: str, query_string: Dict[str, Any]) -> Dict[str, Any]:\n",
    "        \"\"\"\n",
    "        Make an HTTP request and send the raw response.\n",
    "        \"\"\"\n",
    "        complete_url = f\"{self.url}{end_point}?{urllib.parse.urlencode(query_string)}\"\n",
    "        try:\n",
    "            request = urllib.request.Request(complete_url, headers=self.headers)\n",
    "            with urllib.request.urlopen(request, context=self.context) as response:\n",
    "                return json.loads(response.read())\n",
    "        except urllib.error.HTTPError as err:\n",
    "            correlation_id = err.headers.get('X-CorrelationID')\n",
    "            raise APIError(\"An error occurred during the API request.\", correlation_id) from err\n",
    "\n",
    "    def _http_request_with_scheme_id(self, end_point: str, scheme: str, ids: List[str]) -> Dict[str, Any]:\n",
    "        \"\"\"\n",
    "        Make an HTTP request using scheme and ids.\n",
    "        \"\"\"\n",
    "        query_string = {\n",
    "            'scheme': scheme,\n",
    "            'ids': \",\".join(ids)\n",
    "        }\n",
    "        return self._http_request(end_point, query_string)\n",
    "\n",
    "    def instrumentBase(self, scheme: str, instruments: List[str]) -> Dict[str, Any]:\n",
    "        \"\"\"\n",
    "        Retrieve instrument basic attributes using scheme and ids.\n",
    "        \"\"\"\n",
    "        end_point = \"/v1/instruments/referenceData/instrumentBase\"\n",
    "        return self._http_request_with_scheme_id(end_point, scheme, instruments)\n",
    "\n",
    "    def endOfDayHistory(self, scheme: str, listings: List[str], dateFrom: str, dateTo: str = '') -> Dict[str, Any]:\n",
    "        \"\"\"\n",
    "        Retrieve End of Day Timeseries data.\n",
    "        \"\"\"\n",
    "        end_point = \"/v1/listings/marketData/endOfDayHistory\"\n",
    "        query_string = {\n",
    "            'scheme': scheme,\n",
    "            'ids': \",\".join(listings),\n",
    "            'dateFrom': dateFrom,\n",
    "            'dateTo': dateTo\n",
    "        }\n",
    "        return self._http_request(end_point, query_string)\n"
   ]
  },
  {
   "cell_type": "code",
   "execution_count": 27,
   "metadata": {},
   "outputs": [
    {
     "name": "stderr",
     "output_type": "stream",
     "text": [
      "C:\\Users\\Lukas Volk\\AppData\\Local\\Temp\\ipykernel_28184\\1408774091.py:22: DeprecationWarning: ssl.SSLContext() without protocol argument is deprecated.\n",
      "  self.context = ssl.SSLContext()\n",
      "C:\\Users\\Lukas Volk\\AppData\\Local\\Temp\\ipykernel_28184\\1408774091.py:22: DeprecationWarning: ssl.PROTOCOL_TLS is deprecated\n",
      "  self.context = ssl.SSLContext()\n"
     ]
    }
   ],
   "source": [
    "findata = FinancialDataAPI('../SIXWebAPI/CH52991-hackathon7')"
   ]
  },
  {
   "cell_type": "code",
   "execution_count": 28,
   "metadata": {},
   "outputs": [],
   "source": [
    "import os\n",
    "import pandas as pd\n",
    "\n",
    "file_path = os.path.join(\"../ESG/EUESGMANUFACTURER.csv\")\n",
    "try:\n",
    "    # Load the CSV file\n",
    "    df = pd.read_csv(file_path)\n",
    "except FileNotFoundError:\n",
    "    print(f\"The file {file_path} was not found.\")\n",
    "except Exception as e:\n",
    "    print(f\"An error occurred: {e}\")\n"
   ]
  },
  {
   "cell_type": "code",
   "execution_count": 29,
   "metadata": {},
   "outputs": [],
   "source": [
    "unique_entries = df[\"ISIN\"].unique()\n",
    "unique_entries_list = list(unique_entries)"
   ]
  },
  {
   "cell_type": "code",
   "execution_count": null,
   "metadata": {},
   "outputs": [],
   "source": [
    "sample1 = findata.instrumentBase(\"ISIN\", unique_entries_list[:10])"
   ]
  },
  {
   "cell_type": "code",
   "execution_count": null,
   "metadata": {},
   "outputs": [],
   "source": [
    "sample1[\"data\"][\"instruments\"]"
   ]
  },
  {
   "cell_type": "code",
   "execution_count": null,
   "metadata": {},
   "outputs": [],
   "source": [
    "import requests\n",
    "\n",
    "def get_symbol_for_isin(isin):\n",
    "    url = 'https://query1.finance.yahoo.com/v1/finance/search'\n",
    "\n",
    "    headers = {\n",
    "        'User-Agent': 'Mozilla/5.0 (Macintosh; Intel Mac OS X 10_15_7) AppleWebKit/537.36 (KHTML, like Gecko) Chrome/98.0.4758.109 Safari/537.36',\n",
    "    }\n",
    "\n",
    "    params = dict(\n",
    "        q=isin,\n",
    "        quotesCount=1,\n",
    "        newsCount=0,\n",
    "        listsCount=0,\n",
    "        quotesQueryId='tss_match_phrase_query'\n",
    "    )\n",
    "\n",
    "    resp = requests.get(url=url, headers=headers, params=params)\n",
    "    data = resp.json()\n",
    "    if 'quotes' in data and len(data['quotes']) > 0:\n",
    "        return data['quotes'][0]['symbol']\n",
    "    else:\n",
    "        return None"
   ]
  },
  {
   "cell_type": "code",
   "execution_count": null,
   "metadata": {},
   "outputs": [],
   "source": [
    "aggregate = {}\n",
    "\n",
    "for i in unique_entries_list[:50]:\n",
    "    aggregate.update({i: get_symbol_for_isin(i)})"
   ]
  },
  {
   "cell_type": "code",
   "execution_count": null,
   "metadata": {},
   "outputs": [],
   "source": [
    "import csv\n",
    "\n",
    "data = {key: value for key, value in aggregate.items() if value is not None}\n",
    "\n",
    "filename = 'isin_to_ticker.csv'\n",
    "with open(filename, 'w', newline='') as csvfile:\n",
    "    writer = csv.DictWriter(csvfile, fieldnames=data.keys())\n",
    "    writer.writeheader()\n",
    "    writer.writerow(data)"
   ]
  },
  {
   "cell_type": "code",
   "execution_count": 31,
   "metadata": {},
   "outputs": [
    {
     "name": "stdout",
     "output_type": "stream",
     "text": [
      "Info saved to json\\CH0281016474_info.json\n",
      "Info saved to json\\CH0281016656_info.json\n",
      "Info saved to json\\CH0281017506_info.json\n",
      "Info saved to json\\CH0281018538_info.json\n",
      "Info saved to json\\CH0294813131_info.json\n",
      "Info saved to json\\CH0294813149_info.json\n",
      "Info saved to json\\CH0297178755_info.json\n",
      "Info saved to json\\CH0297178771_info.json\n",
      "Info saved to json\\CH0311188863_info.json\n",
      "Info saved to json\\CH0311189556_info.json\n",
      "Info saved to json\\CH0311189580_info.json\n",
      "Info saved to json\\CH0381682621_info.json\n",
      "Info saved to json\\CH0481373295_info.json\n",
      "Info saved to json\\CH0481373311_info.json\n",
      "Info saved to json\\CH0487357052_info.json\n",
      "Info saved to json\\CH0487357136_info.json\n",
      "Info saved to json\\CH0487357144_info.json\n",
      "Info saved to json\\CH0530164190_info.json\n",
      "Info saved to json\\CH0531747381_info.json\n",
      "Info saved to json\\CH0531753587_info.json\n",
      "Info saved to json\\CH0578494418_info.json\n",
      "Info saved to json\\CH0578494426_info.json\n",
      "Info saved to json\\CH0584288531_info.json\n",
      "Info saved to json\\CH0584288564_info.json\n",
      "Info saved to json\\CH0584288580_info.json\n",
      "Info saved to json\\CH1189223345_info.json\n",
      "Info saved to json\\CH1240611561_info.json\n",
      "Info saved to json\\CH1240611579_info.json\n",
      "Info saved to json\\BE0170210729_info.json\n",
      "Info saved to json\\BE0170209713_info.json\n",
      "Info saved to json\\BE0142525329_info.json\n",
      "Info saved to json\\BE0163901680_info.json\n",
      "Info saved to json\\BE0163900674_info.json\n",
      "Info saved to json\\BE0174873795_info.json\n",
      "Info saved to json\\BE0176734979_info.json\n",
      "Info saved to json\\BE0176735018_info.json\n",
      "Info saved to json\\BE0057843311_info.json\n",
      "Info saved to json\\BE0940607956_info.json\n",
      "Info saved to json\\BE0940608962_info.json\n",
      "Info saved to json\\BE0942872327_info.json\n",
      "Info saved to json\\BE0945530716_info.json\n",
      "Info saved to json\\BE0945529700_info.json\n",
      "Info saved to json\\BE0948877239_info.json\n",
      "Info saved to json\\BE6214508093_info.json\n",
      "Info saved to json\\BE6214509109_info.json\n",
      "Info saved to json\\BE6214512137_info.json\n"
     ]
    }
   ],
   "source": [
    "import yfinance as yf\n",
    "\n",
    "def download_stock_data(ticker, isin):\n",
    "    if not os.path.exists('history'):\n",
    "        os.makedirs('history')\n",
    "\n",
    "    if not os.path.exists('json'):\n",
    "        os.makedirs('json')\n",
    "\n",
    "    # Fetch historical data\n",
    "    stock = yf.Ticker(ticker)\n",
    "    \n",
    "    info = stock.info\n",
    "    \n",
    "    # Define JSON file path\n",
    "    json_filename = os.path.join('json', f\"{isin}_info.json\")\n",
    "    \n",
    "    # Write info to JSON file\n",
    "    with open(json_filename, 'w') as jsonfile:\n",
    "        json.dump(info, jsonfile, indent=4)\n",
    "        print(f\"Info saved to {json_filename}\")\n",
    "    \n",
    "        hist_data = stock.history(period=\"max\")\n",
    "    \n",
    "    # Define CSV file path\n",
    "    csv_filename = os.path.join('history', f\"{ticker}_historical_data.csv\")\n",
    "    \n",
    "    # Save historical data to CSV\n",
    "    hist_data.to_csv(csv_filename)\n",
    "    print(f\"Historical data saved to {csv_filename}\")\n",
    "\n",
    "\n",
    "\n",
    "for key, value in data.items():\n",
    "    download_stock_data(value, key)"
   ]
  }
 ],
 "metadata": {
  "kernelspec": {
   "display_name": ".venv",
   "language": "python",
   "name": "python3"
  },
  "language_info": {
   "codemirror_mode": {
    "name": "ipython",
    "version": 3
   },
   "file_extension": ".py",
   "mimetype": "text/x-python",
   "name": "python",
   "nbconvert_exporter": "python",
   "pygments_lexer": "ipython3",
   "version": "3.12.0"
  }
 },
 "nbformat": 4,
 "nbformat_minor": 2
}
