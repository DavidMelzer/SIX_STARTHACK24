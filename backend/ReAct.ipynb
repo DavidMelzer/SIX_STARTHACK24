{
 "cells": [
  {
   "cell_type": "code",
   "execution_count": 8,
   "metadata": {},
   "outputs": [],
   "source": [
    "import os\n",
    "from langchain_openai import ChatOpenAI\n",
    "from langchain.agents import load_tools\n",
    "from langchain_core.prompts import PromptTemplate\n",
    "from langchain.agents import AgentExecutor, create_react_agent\n",
    "from dotenv import load_dotenv\n",
    "from langchain import hub\n",
    "from langchain_community.tools.google_finance import GoogleFinanceQueryRun\n",
    "from langchain_community.utilities.google_finance import GoogleFinanceAPIWrapper\n",
    "from langchain_community.utilities import SerpAPIWrapper\n",
    "from langchain.agents import Tool\n",
    "from langchain_openai import AzureChatOpenAI\n",
    "\n",
    "\n",
    " \n",
    "load_dotenv()\n",
    "\n",
    "os.environ[\"AZURE_OPENAI_API_KEY\"] = os.getenv(\"SIX_OPENAI_KEY\")\n",
    "os.environ[\"AZURE_OPENAI_ENDPOINT\"] = os.getenv(\"SIX_OPENAI_URL\")\n",
    "os.environ[\"SERPAPI_API_KEY\"] = os.getenv(\"SERP_API_KEY\")\n",
    "os.environ[\"OPENAI_API_KEY\"] = os.getenv(\"OPENAI_API_KEY\")\n",
    "os.environ[\"SERPER_API_KEY\"] = os.getenv(\"SERPER_API_KEY\")"
   ]
  },
  {
   "cell_type": "code",
   "execution_count": 9,
   "metadata": {},
   "outputs": [],
   "source": [
    "tool = GoogleFinanceQueryRun(api_wrapper=GoogleFinanceAPIWrapper())\n",
    "\n",
    "params = {\n",
    "    \"engine\": \"bing\",\n",
    "    \"gl\": \"us\",\n",
    "    \"hl\": \"en\",\n",
    "}\n",
    "search = SerpAPIWrapper(params=params)\n",
    "\n",
    "\n",
    "prompt = hub.pull(\"hwchase17/react\")\n",
    "\n",
    "\n",
    "#llm = ChatOpenAI(model_name=\"gpt-3.5-turbo\" ,temperature=0)\n",
    "llm = AzureChatOpenAI(\n",
    "    openai_api_version=os.getenv(\"SIX_OPENAI_VERSION\"),\n",
    "    azure_deployment=os.getenv(\"SIX_OPENAI_MODEL\"),\n",
    ")\n",
    "\n",
    "\n",
    "tools = load_tools([\n",
    "#    \"google-finance\",\n",
    "      \"google-serper\"\n",
    "        #\"serpapi\"\n",
    "        ], llm=llm, allow_dangerous_tools=True)\n",
    "agent = create_react_agent(llm, tools, prompt)\n"
   ]
  },
  {
   "cell_type": "code",
   "execution_count": 12,
   "metadata": {},
   "outputs": [],
   "source": [
    "prompt_template = PromptTemplate(\n",
    "    template=\"\"\"\"You are a financial data assistent for retrieving data about funds from the web./ \n",
    "Please specifically answer what company is associated with an ISIN, retrieve their name, fund makeup, environmental, social and governance scores as well as their current price.\n",
    "Retrieve data for the following ISIN: {isin}./\n",
    "Scrape the data from \n",
    "Return what you could retrieve in a JSON format with no additional text.\"\"\",\n",
    "    input_variables=[\"isin\"]\n",
    ")"
   ]
  },
  {
   "cell_type": "code",
   "execution_count": 11,
   "metadata": {},
   "outputs": [
    {
     "name": "stdout",
     "output_type": "stream",
     "text": [
      "\n",
      "\n",
      "\u001b[1m> Entering new AgentExecutor chain...\u001b[0m\n",
      "\u001b[32;1m\u001b[1;3mTo answer this question, I need to gather financial data about the fund associated with the ISIN CH0281016474. This will likely involve finding the company name, the components of the fund (fund makeup), the ESG (environmental, social, governance) scores, and the current price of the fund. Since this information is typically available from financial databases or investment platforms, I will use the google_serper tool to find the relevant information online.\n",
      "\n",
      "Action: google_serper\n",
      "Action Input: CH0281016474 fund information\u001b[0m\u001b[36;1m\u001b[1;3mCH0281016474. Valor: 28101647. 96.93. NAV. As at 14 Mar 2024. 1.32%. Performance YTD. Overview; Performance; Key Facts; Breakdowns; Documents; Risks & ... What is this product? Type. The fund is a contractual umbrella fund under Swiss law of the type “Other funds for traditional investments” pursuant to the ... CH0281016474 / 28101647. Ongoing charges ... fund/fund units or any ... All data contained herein, including fund information, is obtained from or ... This document provides you with information on performance scenarios. ... a subfund Vontobel Fund (CH), unit class A, currency CHF, ISIN ... New Funds. Home / Fund Information / New Funds. Open glossary; Print this page. List of new funds. ISIN, Fund name ... CH0281016474 · null, -, Bank Vontobel AG ( ... information about financial accounts, this umbrella fund or the ... CH0281016474. CHF. CHF. 5.00%/0.00%/. 5.00%. 1.20 ... Investments in funds-of- ... Units of an investment fund under Swiss law may only be ... Information Document. An investment in this ... CH0281016474. ISIN code of I-class. CH0281016474. ISIN code of I-class ... “Notice to the investors of the investment fund Vontobel Fund (CH) ... 4) Information on the fund management ... CH0281016474. ISIN code of I-class ... 4) Information on the fund management company ... experience in investment fund administration. The tasks of ... Vontobel Fund (CH) - Pension Invest Yield A Fonds Chart. Fundamentaldaten. Valor, 28101647. ISIN, CH0281016474. Name, Vontobel Fund (CH) - Pension Invest Yield ...\u001b[0m\u001b[32;1m\u001b[1;3mThe search results indicate that the fund associated with ISIN CH0281016474 is related to Bank Vontobel AG. The specific fund name appears to be \"Vontobel Fund (CH) - Pension Invest Yield A\". There is a mention of NAV, which is the net asset value, and some performance data (Performance YTD). However, the search results did not explicitly contain the fund makeup, ESG scores, or the exact current price. Additional searches may be needed to gather the full set of information.\n",
      "\n",
      "Action: google_serper\n",
      "Action Input: CH0281016474 fund makeup ESG scores current price\u001b[0m\u001b[36;1m\u001b[1;3mMSCI ESG Fund Ratings are designed to measure the Environmental, Social and Governance (ESG) characteristics of a fund's underlying holdings, making it possible ... Missing: CH0281016474 | Show results with:CH0281016474. Our ESG Ratings range from leader (AAA, AA), average (A, BBB, BB) to laggard (B, CCC). We also rate equity and fixed income securities, loans, mutual funds, ... Missing: CH0281016474 makeup. To determine the cheapest ESG ETFs we looked at high-scoring ESG funds and filtered by expense ratio. Missing: CH0281016474 makeup. Currently, this rating is based on the ESG scores of its underlying holdings and an “adjustment factor”, based in part on the fund's exposure to ... Missing: CH0281016474 | Show results with:CH0281016474. Link sustainability data with financial data and market intelligence, and dig deep with screening tools, real time updates, data visualizations and customized ... Missing: CH0281016474 | Show results with:CH0281016474. The MSCI Fund ESG Rating seeks to measure the resiliency of portfolios to long term ESG risks and opportunities. A highly rated fund consists of issuers with ... Missing: CH0281016474 price. ESG Relevance Scores (ESG.RS) from Fitch Ratings articulate the level of influence an environmental, social or governance issue has had on a credit rating ... Review the Vanguard Total Stock Market ETF for sustainability. See Morningstar's sustainability rating and other ESG pillars to help you invest wisely.\u001b[0m\u001b[32;1m\u001b[1;3mThe search results did not provide specific information about the fund makeup, the ESG scores, or the exact current price for the fund associated with ISIN CH0281016474. The information missing seems to be not readily available in the search results or may require access to specialized financial databases. Since I cannot provide the full set of information requested, I will compile the information I do have into the JSON format as requested.\n",
      "\n",
      "Final Answer:\n",
      "```json\n",
      "{\n",
      "  \"ISIN\": \"CH0281016474\",\n",
      "  \"Company\": \"Bank Vontobel AG\",\n",
      "  \"FundName\": \"Vontobel Fund (CH) - Pension Invest Yield A\",\n",
      "  \"FundMakeup\": \"Information not found\",\n",
      "  \"ESGScores\": \"Information not found\",\n",
      "  \"CurrentPrice\": \"Information not found\"\n",
      "}\n",
      "```\u001b[0m\n",
      "\n",
      "\u001b[1m> Finished chain.\u001b[0m\n"
     ]
    },
    {
     "data": {
      "text/plain": [
       "{'input': '\"You are a financial data assistent for retrieving data about funds from the web./ \\nPlease specifically answer what company is associated with an ISIN, retrieve their name, fund makeup, environmental, social and governance scores as well as their current price.\\nRetrieve data for the following ISIN: CH0281016474./\\nReturn what you could retrieve in a JSON format with no additional text.',\n",
       " 'output': '```json\\n{\\n  \"ISIN\": \"CH0281016474\",\\n  \"Company\": \"Bank Vontobel AG\",\\n  \"FundName\": \"Vontobel Fund (CH) - Pension Invest Yield A\",\\n  \"FundMakeup\": \"Information not found\",\\n  \"ESGScores\": \"Information not found\",\\n  \"CurrentPrice\": \"Information not found\"\\n}\\n```'}"
      ]
     },
     "execution_count": 11,
     "metadata": {},
     "output_type": "execute_result"
    }
   ],
   "source": [
    "isin = \"CH0281016474\"\n",
    "full_prompt = prompt_template.format(isin=isin)\n",
    "agent_executor = AgentExecutor(agent=agent, tools=tools, verbose=True)\n",
    "\n",
    "agent_executor.invoke({\"input\": full_prompt})\n"
   ]
  }
 ],
 "metadata": {
  "kernelspec": {
   "display_name": ".venv",
   "language": "python",
   "name": "python3"
  },
  "language_info": {
   "codemirror_mode": {
    "name": "ipython",
    "version": 3
   },
   "file_extension": ".py",
   "mimetype": "text/x-python",
   "name": "python",
   "nbconvert_exporter": "python",
   "pygments_lexer": "ipython3",
   "version": "3.12.0"
  }
 },
 "nbformat": 4,
 "nbformat_minor": 2
}
