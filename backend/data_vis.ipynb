{
 "cells": [
  {
   "cell_type": "code",
   "execution_count": 90,
   "metadata": {},
   "outputs": [],
   "source": [
    "import json\n",
    "import os\n",
    "import pandas as pd\n",
    "import plotly.express as px\n",
    "import numpy as np"
   ]
  },
  {
   "cell_type": "code",
   "execution_count": 91,
   "metadata": {},
   "outputs": [],
   "source": [
    "# Path to the folder containing the JSON files\n",
    "folder_path = os.path.join(\"json\")\n",
    "\n",
    "# Initialize an empty list to hold the dictionaries\n",
    "dict_list = []\n",
    "\n",
    "# Iterate over each file in the folder\n",
    "for filename in os.listdir(folder_path):\n",
    "    if filename.endswith('.json'):  # Check if the file is a JSON file\n",
    "        file_path = os.path.join(folder_path, filename)\n",
    "        with open(file_path, 'r') as file:\n",
    "            # Load the JSON file into a dictionary\n",
    "            data_dict = json.load(file)\n",
    "            # Add the dictionary to the list\n",
    "            dict_list.append(data_dict)\n",
    "\n",
    "df = pd.DataFrame(dict_list)"
   ]
  },
  {
   "cell_type": "code",
   "execution_count": 92,
   "metadata": {},
   "outputs": [],
   "source": [
    "# df = px.data.gapminder().query(\"year == 2007\")\n",
    "# df.head()"
   ]
  },
  {
   "cell_type": "code",
   "execution_count": 93,
   "metadata": {},
   "outputs": [
    {
     "data": {
      "application/vnd.plotly.v1+json": {
       "config": {
        "plotlyServerURL": "https://plot.ly"
       },
       "data": [
        {
         "branchvalues": "total",
         "customdata": [
          [
           5565.04,
           "Belfius Equities Glob Health Care C$ Cap",
           null
          ],
          [
           3835.64,
           "Belfius Equities Glob Health Care C$ Dis",
           null
          ],
          [
           189.91,
           "Belfius Equities Leading Brands C Cap",
           0.121532604
          ],
          [
           687.78,
           "Belfius Equities Europe S&M Caps C Dis",
           0.049071003
          ],
          [
           6.97,
           "Belfius Equities China C Dis",
           -0.20425029
          ],
          [
           506.39,
           "Belfius Equities Rob&InnovTech C$ Dis",
           null
          ],
          [
           606.47,
           "Belfius Equities Rob&InnovTech C$ Cap",
           null
          ],
          [
           10.31,
           "Belfius Equities China C Cap",
           -0.2038369
          ],
          [
           125.97,
           "Belfius Equities Leading Brands C Dis",
           0.1214479
          ],
          [
           14.71,
           "Belfius Select Portf World Bonds C Cap",
           0.048364199999999996
          ],
          [
           1448.47,
           "Belfius Portfolio Euro Short Term C",
           0.0201928
          ],
          [
           487.88,
           "Belfius Equities Immo C Dis",
           0.1187127
          ],
          [
           914.89,
           "Belfius Equities Immo C Cap",
           0.11890090000000002
          ],
          [
           324.55,
           "MercLan Euro Obligatiefonds A Cap",
           0.0620393
          ],
          [
           348.37,
           "Belfius Plan Bonds",
           0.029824800000000002
          ],
          [
           904.63,
           "Belfius Equities - Immo",
           0.1179927
          ],
          [
           187.58,
           "Belfius Equities - Leading Brands",
           0.120468795
          ],
          [
           5489.75,
           "Belfius Equities Glob Health Care L$ Cap",
           null
          ],
          [
           120.43,
           "Vontobel (CH) Pension Inv Balanced NV",
           0.057236
          ],
          [
           105.36,
           "Vontobel (CH) Pension Inv Yield NV",
           0.045550298
          ],
          [
           151.21,
           "JB Edelweiss Fund Equity (CHF) B",
           0.11933770000000002
          ],
          [
           150.37,
           "JB Edelweiss Fund Equity (CHF) K",
           0.1306592
          ],
          [
           108.48,
           "Vontobel (CH) Pension Inv Balanced A",
           0.0509774
          ],
          [
           113.77,
           "Vontobel (CH) Pension Inv Balanced I",
           0.056704998
          ],
          [
           96.62,
           "Vontobel (CH) Pension Inv Yield A",
           0.0403364
          ],
          [
           100.15,
           "Vontobel (CH) Pension Inv Yield I",
           0.045155402
          ],
          [
           175.21,
           "Vontobel (CH) Vescore Sws Eq Mlti Ft A",
           0.1243878
          ],
          [
           184.56,
           "Vontobel (CH) Vescore Sws Eq Mlti Ft S",
           0.1356546
          ],
          [
           119.52,
           "Vontobel (CH) Vescore Sws Eq Mlti Ft AI",
           0.1300443
          ],
          [
           133.19,
           "Vontobel (CH) Vescore Sws Eq Mlti Ft AN",
           0.1300161
          ],
          [
           136.15,
           "JB Edelweiss Fund Equity (CHF) M",
           0.1248363
          ],
          [
           133.05,
           "JB Edelweiss Fund Equity (CHF) Ma",
           0.1304945
          ],
          [
           125.99,
           "Variopartner (CH) 3-Alp Dvr Eq CH G",
           0.09135930000000002
          ],
          [
           168.93,
           "Variopartner (CH) 3-Alp Dvr Eq US G USD",
           null
          ],
          [
           151.33,
           "Variopartner (CH) 3-Alp Dvr Eq US V CHF",
           null
          ],
          [
           200.34,
           "Variopartner (CH) 3-Alpha Diversifier Equities USA",
           null
          ],
          [
           137.12,
           "Variopartner (CH) 3-Alp Dvr Eq CH VE CHF",
           0.0928529
          ],
          [
           167.43,
           "Variopartner (CH) 3-Alp Dvr Eq US VE CHF",
           null
          ],
          [
           101.72,
           "Vontobel (CH) Pension Inv Balanced YV",
           0.0599118
          ],
          [
           93.47,
           "Vontobel (CH) Pension Inv Yield YV",
           0.048094403
          ],
          [
           116.35,
           "Vontobel (CH) Pension Inv Balanced AI",
           0.0548163
          ],
          [
           106.81,
           "Vontobel (CH) Pension Inv Balanced AN",
           0.056655504
          ],
          [
           127.17,
           "Vontobel (CH) Pension Inv Balanced S",
           0.0625746
          ],
          [
           108.09,
           "JB Edelweiss Fund Equity (CHF) Kt",
           0.13076161
          ],
          [
           106.54,
           "Variopartner (CH) 3-Alpha Diversifier Equities Switzerland",
           0.028285999
          ],
          [
           132.51,
           "Variopartner (CH) 3-Alp Dvr Eq US S USD",
           null
          ],
          [
           "(?)",
           "(?)",
           null
          ]
         ],
         "domain": {
          "x": [
           0,
           1
          ],
          "y": [
           0,
           1
          ]
         },
         "hovertemplate": "labels=%{label}<br>totalAssets=%{value}<br>parent=%{parent}<br>id=%{id}<br>previousClose=%{customdata[0]}<br>longName=%{customdata[1]}<br>ytdReturn=%{color}<extra></extra>",
         "ids": [
          "Fund symbols/0P00000BOQ",
          "Fund symbols/0P00000BOR",
          "Fund symbols/0P00000BP4.F",
          "Fund symbols/0P00000BP9.F",
          "Fund symbols/0P00000HUB.F",
          "Fund symbols/0P00000KGA",
          "Fund symbols/0P00000N7R",
          "Fund symbols/0P00000OOK.F",
          "Fund symbols/0P00000RZK.F",
          "Fund symbols/0P00000W61.F",
          "Fund symbols/0P00000X6H.F",
          "Fund symbols/0P00000XUD.F",
          "Fund symbols/0P00000XUE.F",
          "Fund symbols/0P000011W0.F",
          "Fund symbols/0P00001CO2.F",
          "Fund symbols/0P0000SKYU.F",
          "Fund symbols/0P0000SKYV.F",
          "Fund symbols/0P0000SKYY",
          "Fund symbols/0P00016R0R.SW",
          "Fund symbols/0P00016R0S.SW",
          "Fund symbols/0P00016XV1.SW",
          "Fund symbols/0P00016XV3.SW",
          "Fund symbols/0P000172SQ.SW",
          "Fund symbols/0P000172SR.SW",
          "Fund symbols/0P000172SS.SW",
          "Fund symbols/0P000172ST.SW",
          "Fund symbols/0P00017C3B.SW",
          "Fund symbols/0P00017C3C.SW",
          "Fund symbols/0P00019RRK.SW",
          "Fund symbols/0P0001CE08.SW",
          "Fund symbols/0P0001HS5R.SW",
          "Fund symbols/0P0001HS5S.SW",
          "Fund symbols/0P0001IAM9.SW",
          "Fund symbols/0P0001IAMA",
          "Fund symbols/0P0001IAMB.SW",
          "Fund symbols/0P0001JGAC.F",
          "Fund symbols/0P0001JL9K.SW",
          "Fund symbols/0P0001JL9L.SW",
          "Fund symbols/0P0001L40L.SW",
          "Fund symbols/0P0001L40M.SW",
          "Fund symbols/0P0001LZNP.SW",
          "Fund symbols/0P0001LZNQ.SW",
          "Fund symbols/0P0001LZNR.SW",
          "Fund symbols/0P0001P5MS.SW",
          "Fund symbols/0P0001QEWC.SW",
          "Fund symbols/0P0001QEWD",
          "Fund symbols"
         ],
         "labels": [
          "0P00000BOQ",
          "0P00000BOR",
          "0P00000BP4.F",
          "0P00000BP9.F",
          "0P00000HUB.F",
          "0P00000KGA",
          "0P00000N7R",
          "0P00000OOK.F",
          "0P00000RZK.F",
          "0P00000W61.F",
          "0P00000X6H.F",
          "0P00000XUD.F",
          "0P00000XUE.F",
          "0P000011W0.F",
          "0P00001CO2.F",
          "0P0000SKYU.F",
          "0P0000SKYV.F",
          "0P0000SKYY",
          "0P00016R0R.SW",
          "0P00016R0S.SW",
          "0P00016XV1.SW",
          "0P00016XV3.SW",
          "0P000172SQ.SW",
          "0P000172SR.SW",
          "0P000172SS.SW",
          "0P000172ST.SW",
          "0P00017C3B.SW",
          "0P00017C3C.SW",
          "0P00019RRK.SW",
          "0P0001CE08.SW",
          "0P0001HS5R.SW",
          "0P0001HS5S.SW",
          "0P0001IAM9.SW",
          "0P0001IAMA",
          "0P0001IAMB.SW",
          "0P0001JGAC.F",
          "0P0001JL9K.SW",
          "0P0001JL9L.SW",
          "0P0001L40L.SW",
          "0P0001L40M.SW",
          "0P0001LZNP.SW",
          "0P0001LZNQ.SW",
          "0P0001LZNR.SW",
          "0P0001P5MS.SW",
          "0P0001QEWC.SW",
          "0P0001QEWD",
          "Fund symbols"
         ],
         "marker": {
          "coloraxis": "coloraxis",
          "colors": [
           null,
           null,
           0.121532604,
           0.049071003,
           -0.20425029,
           null,
           null,
           -0.2038369,
           0.1214479,
           0.048364199999999996,
           0.0201928,
           0.1187127,
           0.11890090000000002,
           0.0620393,
           0.029824800000000002,
           0.1179927,
           0.120468795,
           null,
           0.057236,
           0.045550298,
           0.11933770000000002,
           0.1306592,
           0.0509774,
           0.056704998,
           0.0403364,
           0.045155402,
           0.1243878,
           0.1356546,
           0.1300443,
           0.1300161,
           0.1248363,
           0.1304945,
           0.09135930000000002,
           null,
           null,
           null,
           0.0928529,
           null,
           0.0599118,
           0.048094403,
           0.0548163,
           0.056655504,
           0.0625746,
           0.13076161,
           0.028285999,
           null,
           null
          ],
          "cornerradius": 5
         },
         "name": "",
         "parents": [
          "Fund symbols",
          "Fund symbols",
          "Fund symbols",
          "Fund symbols",
          "Fund symbols",
          "Fund symbols",
          "Fund symbols",
          "Fund symbols",
          "Fund symbols",
          "Fund symbols",
          "Fund symbols",
          "Fund symbols",
          "Fund symbols",
          "Fund symbols",
          "Fund symbols",
          "Fund symbols",
          "Fund symbols",
          "Fund symbols",
          "Fund symbols",
          "Fund symbols",
          "Fund symbols",
          "Fund symbols",
          "Fund symbols",
          "Fund symbols",
          "Fund symbols",
          "Fund symbols",
          "Fund symbols",
          "Fund symbols",
          "Fund symbols",
          "Fund symbols",
          "Fund symbols",
          "Fund symbols",
          "Fund symbols",
          "Fund symbols",
          "Fund symbols",
          "Fund symbols",
          "Fund symbols",
          "Fund symbols",
          "Fund symbols",
          "Fund symbols",
          "Fund symbols",
          "Fund symbols",
          "Fund symbols",
          "Fund symbols",
          "Fund symbols",
          "Fund symbols",
          ""
         ],
         "type": "treemap",
         "values": [
          0,
          0,
          414669408,
          268227008,
          128221728,
          0,
          0,
          128221728,
          414669408,
          3107777,
          862762880,
          15527315,
          15527315,
          109802992,
          70705624,
          15527315,
          414669408,
          0,
          40153764,
          14627946,
          310111520,
          310111520,
          40153764,
          40153764,
          14627946,
          14627946,
          224953344,
          224953344,
          224953344,
          224953344,
          310111520,
          310111520,
          224194560,
          0,
          0,
          0,
          224194560,
          0,
          40153764,
          14627946,
          40153764,
          40153764,
          40153764,
          310111520,
          224194560,
          0,
          6324182694
         ]
        }
       ],
       "layout": {
        "coloraxis": {
         "cmid": null,
         "colorbar": {
          "title": {
           "text": "ytdReturn"
          }
         },
         "colorscale": [
          [
           0,
           "rgb(36, 86, 104)"
          ],
          [
           0.16666666666666666,
           "rgb(15, 114, 121)"
          ],
          [
           0.3333333333333333,
           "rgb(13, 143, 129)"
          ],
          [
           0.5,
           "rgb(57, 171, 126)"
          ],
          [
           0.6666666666666666,
           "rgb(110, 197, 116)"
          ],
          [
           0.8333333333333334,
           "rgb(169, 220, 103)"
          ],
          [
           1,
           "rgb(237, 239, 93)"
          ]
         ]
        },
        "legend": {
         "tracegroupgap": 0
        },
        "margin": {
         "b": 25,
         "l": 25,
         "r": 25,
         "t": 50
        },
        "template": {
         "data": {
          "bar": [
           {
            "error_x": {
             "color": "#2a3f5f"
            },
            "error_y": {
             "color": "#2a3f5f"
            },
            "marker": {
             "line": {
              "color": "#E5ECF6",
              "width": 0.5
             },
             "pattern": {
              "fillmode": "overlay",
              "size": 10,
              "solidity": 0.2
             }
            },
            "type": "bar"
           }
          ],
          "barpolar": [
           {
            "marker": {
             "line": {
              "color": "#E5ECF6",
              "width": 0.5
             },
             "pattern": {
              "fillmode": "overlay",
              "size": 10,
              "solidity": 0.2
             }
            },
            "type": "barpolar"
           }
          ],
          "carpet": [
           {
            "aaxis": {
             "endlinecolor": "#2a3f5f",
             "gridcolor": "white",
             "linecolor": "white",
             "minorgridcolor": "white",
             "startlinecolor": "#2a3f5f"
            },
            "baxis": {
             "endlinecolor": "#2a3f5f",
             "gridcolor": "white",
             "linecolor": "white",
             "minorgridcolor": "white",
             "startlinecolor": "#2a3f5f"
            },
            "type": "carpet"
           }
          ],
          "choropleth": [
           {
            "colorbar": {
             "outlinewidth": 0,
             "ticks": ""
            },
            "type": "choropleth"
           }
          ],
          "contour": [
           {
            "colorbar": {
             "outlinewidth": 0,
             "ticks": ""
            },
            "colorscale": [
             [
              0,
              "#0d0887"
             ],
             [
              0.1111111111111111,
              "#46039f"
             ],
             [
              0.2222222222222222,
              "#7201a8"
             ],
             [
              0.3333333333333333,
              "#9c179e"
             ],
             [
              0.4444444444444444,
              "#bd3786"
             ],
             [
              0.5555555555555556,
              "#d8576b"
             ],
             [
              0.6666666666666666,
              "#ed7953"
             ],
             [
              0.7777777777777778,
              "#fb9f3a"
             ],
             [
              0.8888888888888888,
              "#fdca26"
             ],
             [
              1,
              "#f0f921"
             ]
            ],
            "type": "contour"
           }
          ],
          "contourcarpet": [
           {
            "colorbar": {
             "outlinewidth": 0,
             "ticks": ""
            },
            "type": "contourcarpet"
           }
          ],
          "heatmap": [
           {
            "colorbar": {
             "outlinewidth": 0,
             "ticks": ""
            },
            "colorscale": [
             [
              0,
              "#0d0887"
             ],
             [
              0.1111111111111111,
              "#46039f"
             ],
             [
              0.2222222222222222,
              "#7201a8"
             ],
             [
              0.3333333333333333,
              "#9c179e"
             ],
             [
              0.4444444444444444,
              "#bd3786"
             ],
             [
              0.5555555555555556,
              "#d8576b"
             ],
             [
              0.6666666666666666,
              "#ed7953"
             ],
             [
              0.7777777777777778,
              "#fb9f3a"
             ],
             [
              0.8888888888888888,
              "#fdca26"
             ],
             [
              1,
              "#f0f921"
             ]
            ],
            "type": "heatmap"
           }
          ],
          "heatmapgl": [
           {
            "colorbar": {
             "outlinewidth": 0,
             "ticks": ""
            },
            "colorscale": [
             [
              0,
              "#0d0887"
             ],
             [
              0.1111111111111111,
              "#46039f"
             ],
             [
              0.2222222222222222,
              "#7201a8"
             ],
             [
              0.3333333333333333,
              "#9c179e"
             ],
             [
              0.4444444444444444,
              "#bd3786"
             ],
             [
              0.5555555555555556,
              "#d8576b"
             ],
             [
              0.6666666666666666,
              "#ed7953"
             ],
             [
              0.7777777777777778,
              "#fb9f3a"
             ],
             [
              0.8888888888888888,
              "#fdca26"
             ],
             [
              1,
              "#f0f921"
             ]
            ],
            "type": "heatmapgl"
           }
          ],
          "histogram": [
           {
            "marker": {
             "pattern": {
              "fillmode": "overlay",
              "size": 10,
              "solidity": 0.2
             }
            },
            "type": "histogram"
           }
          ],
          "histogram2d": [
           {
            "colorbar": {
             "outlinewidth": 0,
             "ticks": ""
            },
            "colorscale": [
             [
              0,
              "#0d0887"
             ],
             [
              0.1111111111111111,
              "#46039f"
             ],
             [
              0.2222222222222222,
              "#7201a8"
             ],
             [
              0.3333333333333333,
              "#9c179e"
             ],
             [
              0.4444444444444444,
              "#bd3786"
             ],
             [
              0.5555555555555556,
              "#d8576b"
             ],
             [
              0.6666666666666666,
              "#ed7953"
             ],
             [
              0.7777777777777778,
              "#fb9f3a"
             ],
             [
              0.8888888888888888,
              "#fdca26"
             ],
             [
              1,
              "#f0f921"
             ]
            ],
            "type": "histogram2d"
           }
          ],
          "histogram2dcontour": [
           {
            "colorbar": {
             "outlinewidth": 0,
             "ticks": ""
            },
            "colorscale": [
             [
              0,
              "#0d0887"
             ],
             [
              0.1111111111111111,
              "#46039f"
             ],
             [
              0.2222222222222222,
              "#7201a8"
             ],
             [
              0.3333333333333333,
              "#9c179e"
             ],
             [
              0.4444444444444444,
              "#bd3786"
             ],
             [
              0.5555555555555556,
              "#d8576b"
             ],
             [
              0.6666666666666666,
              "#ed7953"
             ],
             [
              0.7777777777777778,
              "#fb9f3a"
             ],
             [
              0.8888888888888888,
              "#fdca26"
             ],
             [
              1,
              "#f0f921"
             ]
            ],
            "type": "histogram2dcontour"
           }
          ],
          "mesh3d": [
           {
            "colorbar": {
             "outlinewidth": 0,
             "ticks": ""
            },
            "type": "mesh3d"
           }
          ],
          "parcoords": [
           {
            "line": {
             "colorbar": {
              "outlinewidth": 0,
              "ticks": ""
             }
            },
            "type": "parcoords"
           }
          ],
          "pie": [
           {
            "automargin": true,
            "type": "pie"
           }
          ],
          "scatter": [
           {
            "fillpattern": {
             "fillmode": "overlay",
             "size": 10,
             "solidity": 0.2
            },
            "type": "scatter"
           }
          ],
          "scatter3d": [
           {
            "line": {
             "colorbar": {
              "outlinewidth": 0,
              "ticks": ""
             }
            },
            "marker": {
             "colorbar": {
              "outlinewidth": 0,
              "ticks": ""
             }
            },
            "type": "scatter3d"
           }
          ],
          "scattercarpet": [
           {
            "marker": {
             "colorbar": {
              "outlinewidth": 0,
              "ticks": ""
             }
            },
            "type": "scattercarpet"
           }
          ],
          "scattergeo": [
           {
            "marker": {
             "colorbar": {
              "outlinewidth": 0,
              "ticks": ""
             }
            },
            "type": "scattergeo"
           }
          ],
          "scattergl": [
           {
            "marker": {
             "colorbar": {
              "outlinewidth": 0,
              "ticks": ""
             }
            },
            "type": "scattergl"
           }
          ],
          "scattermapbox": [
           {
            "marker": {
             "colorbar": {
              "outlinewidth": 0,
              "ticks": ""
             }
            },
            "type": "scattermapbox"
           }
          ],
          "scatterpolar": [
           {
            "marker": {
             "colorbar": {
              "outlinewidth": 0,
              "ticks": ""
             }
            },
            "type": "scatterpolar"
           }
          ],
          "scatterpolargl": [
           {
            "marker": {
             "colorbar": {
              "outlinewidth": 0,
              "ticks": ""
             }
            },
            "type": "scatterpolargl"
           }
          ],
          "scatterternary": [
           {
            "marker": {
             "colorbar": {
              "outlinewidth": 0,
              "ticks": ""
             }
            },
            "type": "scatterternary"
           }
          ],
          "surface": [
           {
            "colorbar": {
             "outlinewidth": 0,
             "ticks": ""
            },
            "colorscale": [
             [
              0,
              "#0d0887"
             ],
             [
              0.1111111111111111,
              "#46039f"
             ],
             [
              0.2222222222222222,
              "#7201a8"
             ],
             [
              0.3333333333333333,
              "#9c179e"
             ],
             [
              0.4444444444444444,
              "#bd3786"
             ],
             [
              0.5555555555555556,
              "#d8576b"
             ],
             [
              0.6666666666666666,
              "#ed7953"
             ],
             [
              0.7777777777777778,
              "#fb9f3a"
             ],
             [
              0.8888888888888888,
              "#fdca26"
             ],
             [
              1,
              "#f0f921"
             ]
            ],
            "type": "surface"
           }
          ],
          "table": [
           {
            "cells": {
             "fill": {
              "color": "#EBF0F8"
             },
             "line": {
              "color": "white"
             }
            },
            "header": {
             "fill": {
              "color": "#C8D4E3"
             },
             "line": {
              "color": "white"
             }
            },
            "type": "table"
           }
          ]
         },
         "layout": {
          "annotationdefaults": {
           "arrowcolor": "#2a3f5f",
           "arrowhead": 0,
           "arrowwidth": 1
          },
          "autotypenumbers": "strict",
          "coloraxis": {
           "colorbar": {
            "outlinewidth": 0,
            "ticks": ""
           }
          },
          "colorscale": {
           "diverging": [
            [
             0,
             "#8e0152"
            ],
            [
             0.1,
             "#c51b7d"
            ],
            [
             0.2,
             "#de77ae"
            ],
            [
             0.3,
             "#f1b6da"
            ],
            [
             0.4,
             "#fde0ef"
            ],
            [
             0.5,
             "#f7f7f7"
            ],
            [
             0.6,
             "#e6f5d0"
            ],
            [
             0.7,
             "#b8e186"
            ],
            [
             0.8,
             "#7fbc41"
            ],
            [
             0.9,
             "#4d9221"
            ],
            [
             1,
             "#276419"
            ]
           ],
           "sequential": [
            [
             0,
             "#0d0887"
            ],
            [
             0.1111111111111111,
             "#46039f"
            ],
            [
             0.2222222222222222,
             "#7201a8"
            ],
            [
             0.3333333333333333,
             "#9c179e"
            ],
            [
             0.4444444444444444,
             "#bd3786"
            ],
            [
             0.5555555555555556,
             "#d8576b"
            ],
            [
             0.6666666666666666,
             "#ed7953"
            ],
            [
             0.7777777777777778,
             "#fb9f3a"
            ],
            [
             0.8888888888888888,
             "#fdca26"
            ],
            [
             1,
             "#f0f921"
            ]
           ],
           "sequentialminus": [
            [
             0,
             "#0d0887"
            ],
            [
             0.1111111111111111,
             "#46039f"
            ],
            [
             0.2222222222222222,
             "#7201a8"
            ],
            [
             0.3333333333333333,
             "#9c179e"
            ],
            [
             0.4444444444444444,
             "#bd3786"
            ],
            [
             0.5555555555555556,
             "#d8576b"
            ],
            [
             0.6666666666666666,
             "#ed7953"
            ],
            [
             0.7777777777777778,
             "#fb9f3a"
            ],
            [
             0.8888888888888888,
             "#fdca26"
            ],
            [
             1,
             "#f0f921"
            ]
           ]
          },
          "colorway": [
           "#636efa",
           "#EF553B",
           "#00cc96",
           "#ab63fa",
           "#FFA15A",
           "#19d3f3",
           "#FF6692",
           "#B6E880",
           "#FF97FF",
           "#FECB52"
          ],
          "font": {
           "color": "#2a3f5f"
          },
          "geo": {
           "bgcolor": "white",
           "lakecolor": "white",
           "landcolor": "#E5ECF6",
           "showlakes": true,
           "showland": true,
           "subunitcolor": "white"
          },
          "hoverlabel": {
           "align": "left"
          },
          "hovermode": "closest",
          "mapbox": {
           "style": "light"
          },
          "paper_bgcolor": "white",
          "plot_bgcolor": "#E5ECF6",
          "polar": {
           "angularaxis": {
            "gridcolor": "white",
            "linecolor": "white",
            "ticks": ""
           },
           "bgcolor": "#E5ECF6",
           "radialaxis": {
            "gridcolor": "white",
            "linecolor": "white",
            "ticks": ""
           }
          },
          "scene": {
           "xaxis": {
            "backgroundcolor": "#E5ECF6",
            "gridcolor": "white",
            "gridwidth": 2,
            "linecolor": "white",
            "showbackground": true,
            "ticks": "",
            "zerolinecolor": "white"
           },
           "yaxis": {
            "backgroundcolor": "#E5ECF6",
            "gridcolor": "white",
            "gridwidth": 2,
            "linecolor": "white",
            "showbackground": true,
            "ticks": "",
            "zerolinecolor": "white"
           },
           "zaxis": {
            "backgroundcolor": "#E5ECF6",
            "gridcolor": "white",
            "gridwidth": 2,
            "linecolor": "white",
            "showbackground": true,
            "ticks": "",
            "zerolinecolor": "white"
           }
          },
          "shapedefaults": {
           "line": {
            "color": "#2a3f5f"
           }
          },
          "ternary": {
           "aaxis": {
            "gridcolor": "white",
            "linecolor": "white",
            "ticks": ""
           },
           "baxis": {
            "gridcolor": "white",
            "linecolor": "white",
            "ticks": ""
           },
           "bgcolor": "#E5ECF6",
           "caxis": {
            "gridcolor": "white",
            "linecolor": "white",
            "ticks": ""
           }
          },
          "title": {
           "x": 0.05
          },
          "xaxis": {
           "automargin": true,
           "gridcolor": "white",
           "linecolor": "white",
           "ticks": "",
           "title": {
            "standoff": 15
           },
           "zerolinecolor": "white",
           "zerolinewidth": 2
          },
          "yaxis": {
           "automargin": true,
           "gridcolor": "white",
           "linecolor": "white",
           "ticks": "",
           "title": {
            "standoff": 15
           },
           "zerolinecolor": "white",
           "zerolinewidth": 2
          }
         }
        }
       }
      }
     },
     "metadata": {},
     "output_type": "display_data"
    }
   ],
   "source": [
    "white = dict(t=0, l=0, r=0, b=0)\n",
    "\n",
    "fig = px.treemap(df, path=[px.Constant(\"Fund symbols\"), 'symbol'], values='totalAssets',\n",
    "                  color='ytdReturn', hover_data=['previousClose', 'longName'],\n",
    "                  color_continuous_scale='aggrnyl',\n",
    "                  color_continuous_midpoint=np.average(df['ytdReturn'], weights=df['totalAssets']))\n",
    "fig.update_layout(margin = dict(t=50, l=25, r=25, b=25))\n",
    "fig.update_traces(marker=dict(cornerradius=5))\n",
    "fig.show()\n"
   ]
  },
  {
   "cell_type": "code",
   "execution_count": 94,
   "metadata": {},
   "outputs": [
    {
     "data": {
      "text/html": [
       "<div>\n",
       "<style scoped>\n",
       "    .dataframe tbody tr th:only-of-type {\n",
       "        vertical-align: middle;\n",
       "    }\n",
       "\n",
       "    .dataframe tbody tr th {\n",
       "        vertical-align: top;\n",
       "    }\n",
       "\n",
       "    .dataframe thead th {\n",
       "        text-align: right;\n",
       "    }\n",
       "</style>\n",
       "<table border=\"1\" class=\"dataframe\">\n",
       "  <thead>\n",
       "    <tr style=\"text-align: right;\">\n",
       "      <th></th>\n",
       "      <th>address3</th>\n",
       "      <th>maxAge</th>\n",
       "      <th>priceHint</th>\n",
       "      <th>previousClose</th>\n",
       "      <th>regularMarketPreviousClose</th>\n",
       "      <th>ytdReturn</th>\n",
       "      <th>totalAssets</th>\n",
       "      <th>fiftyTwoWeekLow</th>\n",
       "      <th>fiftyTwoWeekHigh</th>\n",
       "      <th>fiftyDayAverage</th>\n",
       "      <th>...</th>\n",
       "      <th>firstTradeDateEpochUtc</th>\n",
       "      <th>timeZoneFullName</th>\n",
       "      <th>timeZoneShortName</th>\n",
       "      <th>uuid</th>\n",
       "      <th>gmtOffSetMilliseconds</th>\n",
       "      <th>trailingPegRatio</th>\n",
       "      <th>phone</th>\n",
       "      <th>yield</th>\n",
       "      <th>lastDividendValue</th>\n",
       "      <th>address2</th>\n",
       "    </tr>\n",
       "  </thead>\n",
       "  <tbody>\n",
       "    <tr>\n",
       "      <th>0</th>\n",
       "      <td>Place Rogier 11</td>\n",
       "      <td>86400</td>\n",
       "      <td>2</td>\n",
       "      <td>1448.47</td>\n",
       "      <td>1448.47</td>\n",
       "      <td>0.020193</td>\n",
       "      <td>862762880.0</td>\n",
       "      <td>1415.79</td>\n",
       "      <td>1449.11</td>\n",
       "      <td>1444.9450</td>\n",
       "      <td>...</td>\n",
       "      <td>1646290800</td>\n",
       "      <td>Europe/Berlin</td>\n",
       "      <td>CET</td>\n",
       "      <td>a8b4dfe5-70e2-3a32-b483-fd2db33d1e2e</td>\n",
       "      <td>3600000</td>\n",
       "      <td>None</td>\n",
       "      <td>NaN</td>\n",
       "      <td>NaN</td>\n",
       "      <td>NaN</td>\n",
       "      <td>NaN</td>\n",
       "    </tr>\n",
       "    <tr>\n",
       "      <th>1</th>\n",
       "      <td>Desguinlei 50</td>\n",
       "      <td>86400</td>\n",
       "      <td>2</td>\n",
       "      <td>324.55</td>\n",
       "      <td>324.55</td>\n",
       "      <td>0.062039</td>\n",
       "      <td>109802992.0</td>\n",
       "      <td>308.86</td>\n",
       "      <td>329.75</td>\n",
       "      <td>324.8520</td>\n",
       "      <td>...</td>\n",
       "      <td>1646636400</td>\n",
       "      <td>Europe/Berlin</td>\n",
       "      <td>CET</td>\n",
       "      <td>2d31b772-baba-3657-a3de-9c40f285e230</td>\n",
       "      <td>3600000</td>\n",
       "      <td>None</td>\n",
       "      <td>+32 2 545 77 70</td>\n",
       "      <td>NaN</td>\n",
       "      <td>NaN</td>\n",
       "      <td>NaN</td>\n",
       "    </tr>\n",
       "    <tr>\n",
       "      <th>2</th>\n",
       "      <td>Place Rogier 11</td>\n",
       "      <td>86400</td>\n",
       "      <td>2</td>\n",
       "      <td>5565.04</td>\n",
       "      <td>5565.04</td>\n",
       "      <td>0.020599</td>\n",
       "      <td>NaN</td>\n",
       "      <td>4770.39</td>\n",
       "      <td>5609.89</td>\n",
       "      <td>5469.1440</td>\n",
       "      <td>...</td>\n",
       "      <td>1646663400</td>\n",
       "      <td>America/New_York</td>\n",
       "      <td>EDT</td>\n",
       "      <td>f65ab8d5-a189-3bb0-a9fb-76be12db2e8f</td>\n",
       "      <td>-14400000</td>\n",
       "      <td>None</td>\n",
       "      <td>NaN</td>\n",
       "      <td>NaN</td>\n",
       "      <td>NaN</td>\n",
       "      <td>NaN</td>\n",
       "    </tr>\n",
       "    <tr>\n",
       "      <th>3</th>\n",
       "      <td>Place Rogier 11</td>\n",
       "      <td>86400</td>\n",
       "      <td>2</td>\n",
       "      <td>3835.64</td>\n",
       "      <td>3835.64</td>\n",
       "      <td>0.020510</td>\n",
       "      <td>NaN</td>\n",
       "      <td>3287.94</td>\n",
       "      <td>3866.55</td>\n",
       "      <td>3769.5447</td>\n",
       "      <td>...</td>\n",
       "      <td>1646663400</td>\n",
       "      <td>America/New_York</td>\n",
       "      <td>EDT</td>\n",
       "      <td>1b203ecb-14c2-36e9-92d7-89a7c1228f2c</td>\n",
       "      <td>-14400000</td>\n",
       "      <td>None</td>\n",
       "      <td>NaN</td>\n",
       "      <td>0.0127</td>\n",
       "      <td>48.0</td>\n",
       "      <td>NaN</td>\n",
       "    </tr>\n",
       "    <tr>\n",
       "      <th>4</th>\n",
       "      <td>Place Rogier 11</td>\n",
       "      <td>86400</td>\n",
       "      <td>2</td>\n",
       "      <td>189.91</td>\n",
       "      <td>189.91</td>\n",
       "      <td>0.121533</td>\n",
       "      <td>414669408.0</td>\n",
       "      <td>160.82</td>\n",
       "      <td>191.37</td>\n",
       "      <td>186.2188</td>\n",
       "      <td>...</td>\n",
       "      <td>1646636400</td>\n",
       "      <td>Europe/Berlin</td>\n",
       "      <td>CET</td>\n",
       "      <td>3ff101b7-6bd2-320f-879f-5bd5fde9baff</td>\n",
       "      <td>3600000</td>\n",
       "      <td>None</td>\n",
       "      <td>NaN</td>\n",
       "      <td>NaN</td>\n",
       "      <td>NaN</td>\n",
       "      <td>NaN</td>\n",
       "    </tr>\n",
       "  </tbody>\n",
       "</table>\n",
       "<p>5 rows × 33 columns</p>\n",
       "</div>"
      ],
      "text/plain": [
       "          address3  maxAge  priceHint  previousClose  \\\n",
       "0  Place Rogier 11   86400          2        1448.47   \n",
       "1    Desguinlei 50   86400          2         324.55   \n",
       "2  Place Rogier 11   86400          2        5565.04   \n",
       "3  Place Rogier 11   86400          2        3835.64   \n",
       "4  Place Rogier 11   86400          2         189.91   \n",
       "\n",
       "   regularMarketPreviousClose  ytdReturn  totalAssets  fiftyTwoWeekLow  \\\n",
       "0                     1448.47   0.020193  862762880.0          1415.79   \n",
       "1                      324.55   0.062039  109802992.0           308.86   \n",
       "2                     5565.04   0.020599          NaN          4770.39   \n",
       "3                     3835.64   0.020510          NaN          3287.94   \n",
       "4                      189.91   0.121533  414669408.0           160.82   \n",
       "\n",
       "   fiftyTwoWeekHigh  fiftyDayAverage  ...  firstTradeDateEpochUtc  \\\n",
       "0           1449.11        1444.9450  ...              1646290800   \n",
       "1            329.75         324.8520  ...              1646636400   \n",
       "2           5609.89        5469.1440  ...              1646663400   \n",
       "3           3866.55        3769.5447  ...              1646663400   \n",
       "4            191.37         186.2188  ...              1646636400   \n",
       "\n",
       "   timeZoneFullName  timeZoneShortName                                  uuid  \\\n",
       "0     Europe/Berlin                CET  a8b4dfe5-70e2-3a32-b483-fd2db33d1e2e   \n",
       "1     Europe/Berlin                CET  2d31b772-baba-3657-a3de-9c40f285e230   \n",
       "2  America/New_York                EDT  f65ab8d5-a189-3bb0-a9fb-76be12db2e8f   \n",
       "3  America/New_York                EDT  1b203ecb-14c2-36e9-92d7-89a7c1228f2c   \n",
       "4     Europe/Berlin                CET  3ff101b7-6bd2-320f-879f-5bd5fde9baff   \n",
       "\n",
       "   gmtOffSetMilliseconds  trailingPegRatio            phone   yield  \\\n",
       "0                3600000              None              NaN     NaN   \n",
       "1                3600000              None  +32 2 545 77 70     NaN   \n",
       "2              -14400000              None              NaN     NaN   \n",
       "3              -14400000              None              NaN  0.0127   \n",
       "4                3600000              None              NaN     NaN   \n",
       "\n",
       "  lastDividendValue address2  \n",
       "0               NaN      NaN  \n",
       "1               NaN      NaN  \n",
       "2               NaN      NaN  \n",
       "3              48.0      NaN  \n",
       "4               NaN      NaN  \n",
       "\n",
       "[5 rows x 33 columns]"
      ]
     },
     "execution_count": 94,
     "metadata": {},
     "output_type": "execute_result"
    }
   ],
   "source": [
    "df.head()"
   ]
  },
  {
   "cell_type": "code",
   "execution_count": 95,
   "metadata": {},
   "outputs": [
    {
     "data": {
      "application/vnd.plotly.v1+json": {
       "config": {
        "plotlyServerURL": "https://plot.ly"
       },
       "data": [
        {
         "hovertemplate": "<b>%{hovertext}</b><br><br>totalAssets=%{marker.size}<br>previousClose=%{y}<br>ytdReturn=%{marker.color}<extra></extra>",
         "hovertext": [
          "Belfius Portfolio Euro Short Term C",
          "MercLan Euro Obligatiefonds A Cap",
          "Belfius Equities Leading Brands C Cap",
          "Belfius Equities Leading Brands C Dis",
          "Belfius Select Portf World Bonds C Cap",
          "Belfius Equities Immo C Dis",
          "Belfius Equities Immo C Cap",
          "Belfius Plan Bonds",
          "Belfius Equities China C Dis",
          "Belfius Equities China C Cap",
          "Belfius Equities Europe S&M Caps C Dis",
          "Belfius Equities - Immo",
          "Belfius Equities - Leading Brands",
          "Vontobel (CH) Pension Inv Yield A",
          "Vontobel (CH) Pension Inv Yield NV",
          "Vontobel (CH) Pension Inv Balanced A",
          "Vontobel (CH) Pension Inv Balanced NV",
          "Vontobel (CH) Pension Inv Yield I",
          "Vontobel (CH) Pension Inv Balanced I",
          "JB Edelweiss Fund Equity (CHF) B",
          "JB Edelweiss Fund Equity (CHF) K",
          "Vontobel (CH) Vescore Sws Eq Mlti Ft A",
          "Vontobel (CH) Vescore Sws Eq Mlti Ft S",
          "Vontobel (CH) Vescore Sws Eq Mlti Ft AI",
          "Vontobel (CH) Vescore Sws Eq Mlti Ft AN",
          "JB Edelweiss Fund Equity (CHF) M",
          "JB Edelweiss Fund Equity (CHF) Ma",
          "Variopartner (CH) 3-Alp Dvr Eq CH G",
          "Variopartner (CH) 3-Alp Dvr Eq CH VE CHF",
          "Vontobel (CH) Pension Inv Yield YV",
          "Vontobel (CH) Pension Inv Balanced YV",
          "Vontobel (CH) Pension Inv Balanced S",
          "Vontobel (CH) Pension Inv Balanced AI",
          "Vontobel (CH) Pension Inv Balanced AN",
          "JB Edelweiss Fund Equity (CHF) Kt",
          "Variopartner (CH) 3-Alpha Diversifier Equities Switzerland"
         ],
         "legendgroup": "",
         "marker": {
          "color": [
           0.0201928,
           0.0620393,
           0.121532604,
           0.1214479,
           0.0483642,
           0.1187127,
           0.1189009,
           0.0298248,
           -0.20425029,
           -0.2038369,
           0.049071003,
           0.1179927,
           0.120468795,
           0.0403364,
           0.045550298,
           0.0509774,
           0.057236,
           0.045155402,
           0.056704998,
           0.1193377,
           0.1306592,
           0.1243878,
           0.1356546,
           0.1300443,
           0.1300161,
           0.1248363,
           0.1304945,
           0.0913593,
           0.0928529,
           0.048094403,
           0.0599118,
           0.0625746,
           0.0548163,
           0.056655504,
           0.13076161,
           0.028285999
          ],
          "coloraxis": "coloraxis",
          "size": [
           862762880,
           109802992,
           414669408,
           414669408,
           3107777,
           15527315,
           15527315,
           70705624,
           128221728,
           128221728,
           268227008,
           15527315,
           414669408,
           14627946,
           14627946,
           40153764,
           40153764,
           14627946,
           40153764,
           310111520,
           310111520,
           224953344,
           224953344,
           224953344,
           224953344,
           310111520,
           310111520,
           224194560,
           224194560,
           14627946,
           40153764,
           40153764,
           40153764,
           40153764,
           310111520,
           224194560
          ],
          "sizemode": "area",
          "sizeref": 239656.35555555555,
          "symbol": "circle"
         },
         "mode": "markers",
         "name": "",
         "orientation": "v",
         "showlegend": false,
         "type": "scatter",
         "x": [
          862762880,
          109802992,
          414669408,
          414669408,
          3107777,
          15527315,
          15527315,
          70705624,
          128221728,
          128221728,
          268227008,
          15527315,
          414669408,
          14627946,
          14627946,
          40153764,
          40153764,
          14627946,
          40153764,
          310111520,
          310111520,
          224953344,
          224953344,
          224953344,
          224953344,
          310111520,
          310111520,
          224194560,
          224194560,
          14627946,
          40153764,
          40153764,
          40153764,
          40153764,
          310111520,
          224194560
         ],
         "xaxis": "x",
         "y": [
          1448.47,
          324.55,
          189.91,
          125.97,
          14.71,
          487.88,
          914.89,
          348.37,
          6.97,
          10.31,
          687.78,
          904.63,
          187.58,
          96.62,
          105.36,
          108.48,
          120.43,
          100.15,
          113.77,
          151.21,
          150.37,
          175.21,
          184.56,
          119.52,
          133.19,
          136.15,
          133.05,
          125.99,
          137.12,
          93.47,
          101.72,
          127.17,
          116.35,
          106.81,
          108.09,
          106.54
         ],
         "yaxis": "y"
        }
       ],
       "layout": {
        "coloraxis": {
         "colorbar": {
          "title": {
           "text": "ytdReturn"
          }
         },
         "colorscale": [
          [
           0,
           "rgb(36, 86, 104)"
          ],
          [
           0.16666666666666666,
           "rgb(15, 114, 121)"
          ],
          [
           0.3333333333333333,
           "rgb(13, 143, 129)"
          ],
          [
           0.5,
           "rgb(57, 171, 126)"
          ],
          [
           0.6666666666666666,
           "rgb(110, 197, 116)"
          ],
          [
           0.8333333333333334,
           "rgb(169, 220, 103)"
          ],
          [
           1,
           "rgb(237, 239, 93)"
          ]
         ]
        },
        "legend": {
         "itemsizing": "constant",
         "tracegroupgap": 0
        },
        "margin": {
         "t": 60
        },
        "template": {
         "data": {
          "bar": [
           {
            "error_x": {
             "color": "#2a3f5f"
            },
            "error_y": {
             "color": "#2a3f5f"
            },
            "marker": {
             "line": {
              "color": "#E5ECF6",
              "width": 0.5
             },
             "pattern": {
              "fillmode": "overlay",
              "size": 10,
              "solidity": 0.2
             }
            },
            "type": "bar"
           }
          ],
          "barpolar": [
           {
            "marker": {
             "line": {
              "color": "#E5ECF6",
              "width": 0.5
             },
             "pattern": {
              "fillmode": "overlay",
              "size": 10,
              "solidity": 0.2
             }
            },
            "type": "barpolar"
           }
          ],
          "carpet": [
           {
            "aaxis": {
             "endlinecolor": "#2a3f5f",
             "gridcolor": "white",
             "linecolor": "white",
             "minorgridcolor": "white",
             "startlinecolor": "#2a3f5f"
            },
            "baxis": {
             "endlinecolor": "#2a3f5f",
             "gridcolor": "white",
             "linecolor": "white",
             "minorgridcolor": "white",
             "startlinecolor": "#2a3f5f"
            },
            "type": "carpet"
           }
          ],
          "choropleth": [
           {
            "colorbar": {
             "outlinewidth": 0,
             "ticks": ""
            },
            "type": "choropleth"
           }
          ],
          "contour": [
           {
            "colorbar": {
             "outlinewidth": 0,
             "ticks": ""
            },
            "colorscale": [
             [
              0,
              "#0d0887"
             ],
             [
              0.1111111111111111,
              "#46039f"
             ],
             [
              0.2222222222222222,
              "#7201a8"
             ],
             [
              0.3333333333333333,
              "#9c179e"
             ],
             [
              0.4444444444444444,
              "#bd3786"
             ],
             [
              0.5555555555555556,
              "#d8576b"
             ],
             [
              0.6666666666666666,
              "#ed7953"
             ],
             [
              0.7777777777777778,
              "#fb9f3a"
             ],
             [
              0.8888888888888888,
              "#fdca26"
             ],
             [
              1,
              "#f0f921"
             ]
            ],
            "type": "contour"
           }
          ],
          "contourcarpet": [
           {
            "colorbar": {
             "outlinewidth": 0,
             "ticks": ""
            },
            "type": "contourcarpet"
           }
          ],
          "heatmap": [
           {
            "colorbar": {
             "outlinewidth": 0,
             "ticks": ""
            },
            "colorscale": [
             [
              0,
              "#0d0887"
             ],
             [
              0.1111111111111111,
              "#46039f"
             ],
             [
              0.2222222222222222,
              "#7201a8"
             ],
             [
              0.3333333333333333,
              "#9c179e"
             ],
             [
              0.4444444444444444,
              "#bd3786"
             ],
             [
              0.5555555555555556,
              "#d8576b"
             ],
             [
              0.6666666666666666,
              "#ed7953"
             ],
             [
              0.7777777777777778,
              "#fb9f3a"
             ],
             [
              0.8888888888888888,
              "#fdca26"
             ],
             [
              1,
              "#f0f921"
             ]
            ],
            "type": "heatmap"
           }
          ],
          "heatmapgl": [
           {
            "colorbar": {
             "outlinewidth": 0,
             "ticks": ""
            },
            "colorscale": [
             [
              0,
              "#0d0887"
             ],
             [
              0.1111111111111111,
              "#46039f"
             ],
             [
              0.2222222222222222,
              "#7201a8"
             ],
             [
              0.3333333333333333,
              "#9c179e"
             ],
             [
              0.4444444444444444,
              "#bd3786"
             ],
             [
              0.5555555555555556,
              "#d8576b"
             ],
             [
              0.6666666666666666,
              "#ed7953"
             ],
             [
              0.7777777777777778,
              "#fb9f3a"
             ],
             [
              0.8888888888888888,
              "#fdca26"
             ],
             [
              1,
              "#f0f921"
             ]
            ],
            "type": "heatmapgl"
           }
          ],
          "histogram": [
           {
            "marker": {
             "pattern": {
              "fillmode": "overlay",
              "size": 10,
              "solidity": 0.2
             }
            },
            "type": "histogram"
           }
          ],
          "histogram2d": [
           {
            "colorbar": {
             "outlinewidth": 0,
             "ticks": ""
            },
            "colorscale": [
             [
              0,
              "#0d0887"
             ],
             [
              0.1111111111111111,
              "#46039f"
             ],
             [
              0.2222222222222222,
              "#7201a8"
             ],
             [
              0.3333333333333333,
              "#9c179e"
             ],
             [
              0.4444444444444444,
              "#bd3786"
             ],
             [
              0.5555555555555556,
              "#d8576b"
             ],
             [
              0.6666666666666666,
              "#ed7953"
             ],
             [
              0.7777777777777778,
              "#fb9f3a"
             ],
             [
              0.8888888888888888,
              "#fdca26"
             ],
             [
              1,
              "#f0f921"
             ]
            ],
            "type": "histogram2d"
           }
          ],
          "histogram2dcontour": [
           {
            "colorbar": {
             "outlinewidth": 0,
             "ticks": ""
            },
            "colorscale": [
             [
              0,
              "#0d0887"
             ],
             [
              0.1111111111111111,
              "#46039f"
             ],
             [
              0.2222222222222222,
              "#7201a8"
             ],
             [
              0.3333333333333333,
              "#9c179e"
             ],
             [
              0.4444444444444444,
              "#bd3786"
             ],
             [
              0.5555555555555556,
              "#d8576b"
             ],
             [
              0.6666666666666666,
              "#ed7953"
             ],
             [
              0.7777777777777778,
              "#fb9f3a"
             ],
             [
              0.8888888888888888,
              "#fdca26"
             ],
             [
              1,
              "#f0f921"
             ]
            ],
            "type": "histogram2dcontour"
           }
          ],
          "mesh3d": [
           {
            "colorbar": {
             "outlinewidth": 0,
             "ticks": ""
            },
            "type": "mesh3d"
           }
          ],
          "parcoords": [
           {
            "line": {
             "colorbar": {
              "outlinewidth": 0,
              "ticks": ""
             }
            },
            "type": "parcoords"
           }
          ],
          "pie": [
           {
            "automargin": true,
            "type": "pie"
           }
          ],
          "scatter": [
           {
            "fillpattern": {
             "fillmode": "overlay",
             "size": 10,
             "solidity": 0.2
            },
            "type": "scatter"
           }
          ],
          "scatter3d": [
           {
            "line": {
             "colorbar": {
              "outlinewidth": 0,
              "ticks": ""
             }
            },
            "marker": {
             "colorbar": {
              "outlinewidth": 0,
              "ticks": ""
             }
            },
            "type": "scatter3d"
           }
          ],
          "scattercarpet": [
           {
            "marker": {
             "colorbar": {
              "outlinewidth": 0,
              "ticks": ""
             }
            },
            "type": "scattercarpet"
           }
          ],
          "scattergeo": [
           {
            "marker": {
             "colorbar": {
              "outlinewidth": 0,
              "ticks": ""
             }
            },
            "type": "scattergeo"
           }
          ],
          "scattergl": [
           {
            "marker": {
             "colorbar": {
              "outlinewidth": 0,
              "ticks": ""
             }
            },
            "type": "scattergl"
           }
          ],
          "scattermapbox": [
           {
            "marker": {
             "colorbar": {
              "outlinewidth": 0,
              "ticks": ""
             }
            },
            "type": "scattermapbox"
           }
          ],
          "scatterpolar": [
           {
            "marker": {
             "colorbar": {
              "outlinewidth": 0,
              "ticks": ""
             }
            },
            "type": "scatterpolar"
           }
          ],
          "scatterpolargl": [
           {
            "marker": {
             "colorbar": {
              "outlinewidth": 0,
              "ticks": ""
             }
            },
            "type": "scatterpolargl"
           }
          ],
          "scatterternary": [
           {
            "marker": {
             "colorbar": {
              "outlinewidth": 0,
              "ticks": ""
             }
            },
            "type": "scatterternary"
           }
          ],
          "surface": [
           {
            "colorbar": {
             "outlinewidth": 0,
             "ticks": ""
            },
            "colorscale": [
             [
              0,
              "#0d0887"
             ],
             [
              0.1111111111111111,
              "#46039f"
             ],
             [
              0.2222222222222222,
              "#7201a8"
             ],
             [
              0.3333333333333333,
              "#9c179e"
             ],
             [
              0.4444444444444444,
              "#bd3786"
             ],
             [
              0.5555555555555556,
              "#d8576b"
             ],
             [
              0.6666666666666666,
              "#ed7953"
             ],
             [
              0.7777777777777778,
              "#fb9f3a"
             ],
             [
              0.8888888888888888,
              "#fdca26"
             ],
             [
              1,
              "#f0f921"
             ]
            ],
            "type": "surface"
           }
          ],
          "table": [
           {
            "cells": {
             "fill": {
              "color": "#EBF0F8"
             },
             "line": {
              "color": "white"
             }
            },
            "header": {
             "fill": {
              "color": "#C8D4E3"
             },
             "line": {
              "color": "white"
             }
            },
            "type": "table"
           }
          ]
         },
         "layout": {
          "annotationdefaults": {
           "arrowcolor": "#2a3f5f",
           "arrowhead": 0,
           "arrowwidth": 1
          },
          "autotypenumbers": "strict",
          "coloraxis": {
           "colorbar": {
            "outlinewidth": 0,
            "ticks": ""
           }
          },
          "colorscale": {
           "diverging": [
            [
             0,
             "#8e0152"
            ],
            [
             0.1,
             "#c51b7d"
            ],
            [
             0.2,
             "#de77ae"
            ],
            [
             0.3,
             "#f1b6da"
            ],
            [
             0.4,
             "#fde0ef"
            ],
            [
             0.5,
             "#f7f7f7"
            ],
            [
             0.6,
             "#e6f5d0"
            ],
            [
             0.7,
             "#b8e186"
            ],
            [
             0.8,
             "#7fbc41"
            ],
            [
             0.9,
             "#4d9221"
            ],
            [
             1,
             "#276419"
            ]
           ],
           "sequential": [
            [
             0,
             "#0d0887"
            ],
            [
             0.1111111111111111,
             "#46039f"
            ],
            [
             0.2222222222222222,
             "#7201a8"
            ],
            [
             0.3333333333333333,
             "#9c179e"
            ],
            [
             0.4444444444444444,
             "#bd3786"
            ],
            [
             0.5555555555555556,
             "#d8576b"
            ],
            [
             0.6666666666666666,
             "#ed7953"
            ],
            [
             0.7777777777777778,
             "#fb9f3a"
            ],
            [
             0.8888888888888888,
             "#fdca26"
            ],
            [
             1,
             "#f0f921"
            ]
           ],
           "sequentialminus": [
            [
             0,
             "#0d0887"
            ],
            [
             0.1111111111111111,
             "#46039f"
            ],
            [
             0.2222222222222222,
             "#7201a8"
            ],
            [
             0.3333333333333333,
             "#9c179e"
            ],
            [
             0.4444444444444444,
             "#bd3786"
            ],
            [
             0.5555555555555556,
             "#d8576b"
            ],
            [
             0.6666666666666666,
             "#ed7953"
            ],
            [
             0.7777777777777778,
             "#fb9f3a"
            ],
            [
             0.8888888888888888,
             "#fdca26"
            ],
            [
             1,
             "#f0f921"
            ]
           ]
          },
          "colorway": [
           "#636efa",
           "#EF553B",
           "#00cc96",
           "#ab63fa",
           "#FFA15A",
           "#19d3f3",
           "#FF6692",
           "#B6E880",
           "#FF97FF",
           "#FECB52"
          ],
          "font": {
           "color": "#2a3f5f"
          },
          "geo": {
           "bgcolor": "white",
           "lakecolor": "white",
           "landcolor": "#E5ECF6",
           "showlakes": true,
           "showland": true,
           "subunitcolor": "white"
          },
          "hoverlabel": {
           "align": "left"
          },
          "hovermode": "closest",
          "mapbox": {
           "style": "light"
          },
          "paper_bgcolor": "white",
          "plot_bgcolor": "#E5ECF6",
          "polar": {
           "angularaxis": {
            "gridcolor": "white",
            "linecolor": "white",
            "ticks": ""
           },
           "bgcolor": "#E5ECF6",
           "radialaxis": {
            "gridcolor": "white",
            "linecolor": "white",
            "ticks": ""
           }
          },
          "scene": {
           "xaxis": {
            "backgroundcolor": "#E5ECF6",
            "gridcolor": "white",
            "gridwidth": 2,
            "linecolor": "white",
            "showbackground": true,
            "ticks": "",
            "zerolinecolor": "white"
           },
           "yaxis": {
            "backgroundcolor": "#E5ECF6",
            "gridcolor": "white",
            "gridwidth": 2,
            "linecolor": "white",
            "showbackground": true,
            "ticks": "",
            "zerolinecolor": "white"
           },
           "zaxis": {
            "backgroundcolor": "#E5ECF6",
            "gridcolor": "white",
            "gridwidth": 2,
            "linecolor": "white",
            "showbackground": true,
            "ticks": "",
            "zerolinecolor": "white"
           }
          },
          "shapedefaults": {
           "line": {
            "color": "#2a3f5f"
           }
          },
          "ternary": {
           "aaxis": {
            "gridcolor": "white",
            "linecolor": "white",
            "ticks": ""
           },
           "baxis": {
            "gridcolor": "white",
            "linecolor": "white",
            "ticks": ""
           },
           "bgcolor": "#E5ECF6",
           "caxis": {
            "gridcolor": "white",
            "linecolor": "white",
            "ticks": ""
           }
          },
          "title": {
           "x": 0.05
          },
          "xaxis": {
           "automargin": true,
           "gridcolor": "white",
           "linecolor": "white",
           "ticks": "",
           "title": {
            "standoff": 15
           },
           "zerolinecolor": "white",
           "zerolinewidth": 2
          },
          "yaxis": {
           "automargin": true,
           "gridcolor": "white",
           "linecolor": "white",
           "ticks": "",
           "title": {
            "standoff": 15
           },
           "zerolinecolor": "white",
           "zerolinewidth": 2
          }
         }
        },
        "xaxis": {
         "anchor": "y",
         "domain": [
          0,
          1
         ],
         "title": {
          "text": "totalAssets"
         },
         "type": "log"
        },
        "yaxis": {
         "anchor": "x",
         "domain": [
          0,
          1
         ],
         "title": {
          "text": "previousClose"
         }
        }
       }
      }
     },
     "metadata": {},
     "output_type": "display_data"
    }
   ],
   "source": [
    "df = df.dropna(subset=['totalAssets'])\n",
    "\n",
    "fig = px.scatter(df, x=\"totalAssets\", y=\"previousClose\",\n",
    "\t         size=\"totalAssets\", color=\"ytdReturn\",\n",
    "                              color_continuous_scale='aggrnyl',\n",
    "                 hover_name=\"longName\", log_x=True, size_max=60)\n",
    "fig.show()\n"
   ]
  }
 ],
 "metadata": {
  "kernelspec": {
   "display_name": ".venv",
   "language": "python",
   "name": "python3"
  },
  "language_info": {
   "codemirror_mode": {
    "name": "ipython",
    "version": 3
   },
   "file_extension": ".py",
   "mimetype": "text/x-python",
   "name": "python",
   "nbconvert_exporter": "python",
   "pygments_lexer": "ipython3",
   "version": "3.12.0"
  }
 },
 "nbformat": 4,
 "nbformat_minor": 2
}
